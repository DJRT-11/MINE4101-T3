{
 "cells": [
  {
   "cell_type": "code",
   "execution_count": 159,
   "metadata": {},
   "outputs": [],
   "source": [
    "import os\n",
    "import json\n",
    "import pandas as pd\n",
    "import numpy as np\n",
    "import matplotlib.pyplot as plt"
   ]
  },
  {
   "cell_type": "markdown",
   "metadata": {},
   "source": [
    "### Punto A: \n",
    "\n",
    "#### Para toda la ventana de tiempo, ¿cómo se distribuyen las probabilidades asignadas por el modelo entre los dos grupos? "
   ]
  },
  {
   "cell_type": "code",
   "execution_count": 27,
   "metadata": {},
   "outputs": [],
   "source": [
    "paths_bsl = [\"a-b_testing/outputs/churn_test_baseline_01.json\",\n",
    "             \"a-b_testing/outputs/churn_test_baseline_02.json\",\n",
    "             \"a-b_testing/outputs/churn_test_baseline_03.json\",\n",
    "             \"a-b_testing/outputs/churn_test_baseline_04.json\",\n",
    "             \"a-b_testing/outputs/churn_test_baseline_05.json\",\n",
    "             \"a-b_testing/outputs/churn_test_baseline_06.json\",\n",
    "             \"a-b_testing/outputs/churn_test_baseline_07.json\"]\n",
    "\n",
    "all_bsl = []\n",
    "for p in paths_bsl:\n",
    "    with open(p, 'r') as j:\n",
    "        s = j.read()[1:-1]\n",
    "        s = s.replace('\\\\','')\n",
    "        content = json.loads(s)\n",
    "        all_bsl.extend(content)\n",
    "\n",
    "df_bsl = pd.DataFrame(all_bsl)"
   ]
  },
  {
   "cell_type": "code",
   "execution_count": 28,
   "metadata": {},
   "outputs": [],
   "source": [
    "paths_opt = [\"a-b_testing/outputs/churn_test_optimized_01.json\",\n",
    "             \"a-b_testing/outputs/churn_test_optimized_02.json\",\n",
    "             \"a-b_testing/outputs/churn_test_optimized_03.json\",\n",
    "             \"a-b_testing/outputs/churn_test_optimized_04.json\",\n",
    "             \"a-b_testing/outputs/churn_test_optimized_05.json\",\n",
    "             \"a-b_testing/outputs/churn_test_optimized_06.json\",\n",
    "             \"a-b_testing/outputs/churn_test_optimized_07.json\"]\n",
    "\n",
    "all_opt = []\n",
    "for p in paths_opt:\n",
    "    with open(p, 'r') as j:\n",
    "        s = j.read()[1:-1]\n",
    "        s = s.replace('\\\\','')\n",
    "        content = json.loads(s)\n",
    "        all_opt.extend(content)\n",
    "\n",
    "df_opt = pd.DataFrame(all_opt)"
   ]
  },
  {
   "cell_type": "code",
   "execution_count": 40,
   "metadata": {},
   "outputs": [
    {
     "data": {
      "text/plain": [
       "(0.0, 180.0)"
      ]
     },
     "execution_count": 40,
     "metadata": {},
     "output_type": "execute_result"
    },
    {
     "data": {
      "image/png": "[encoded data removed]",
      "text/plain": [
       "<Figure size 1000x500 with 2 Axes>"
      ]
     },
     "metadata": {},
     "output_type": "display_data"
    }
   ],
   "source": [
    "fig, axes = plt.subplots(1,2)\n",
    "\n",
    "fig.set_figwidth(10)\n",
    "fig.set_figheight(5)\n",
    "\n",
    "df_bsl.hist(column=\"Probability\",bins=10,grid=False, ax=axes[0])\n",
    "df_opt.hist(column=\"Probability\",bins=10,grid=False, ax=axes[1])\n",
    "plt.ylim(top=180)"
   ]
  },
  {
   "cell_type": "markdown",
   "metadata": {},
   "source": [
    "#### Asumiendo que las distribuciones tienen un comportamiento normal, ¿dichas diferencias entre las probabilidades de ambas variantes del modelo son significativas?"
   ]
  },
  {
   "cell_type": "code",
   "execution_count": 43,
   "metadata": {},
   "outputs": [],
   "source": []
  },
  {
   "cell_type": "markdown",
   "metadata": {},
   "source": [
    "### Punto B: \n",
    "\n",
    "#### ¿Cuál fue el incremento o decremento porcentual diario de predicción de casos de churn que tuvo el mejor modelo (punto 3) respecto al baseline (punto 2)?"
   ]
  },
  {
   "cell_type": "code",
   "execution_count": 54,
   "metadata": {},
   "outputs": [],
   "source": [
    "paths_01 = [\"a-b_testing/outputs/churn_test_baseline_01.json\",\n",
    "            \"a-b_testing/outputs/churn_test_optimized_01.json\"]\n",
    "\n",
    "bsl_01 = []\n",
    "with open(paths_01[0], 'r') as j:\n",
    "    s = j.read()[1:-1]\n",
    "    s = s.replace('\\\\','')\n",
    "    content = json.loads(s)\n",
    "    bsl_01.extend(content)\n",
    "\n",
    "df_bsl_01 = pd.DataFrame(bsl_01)\n",
    "df_bsl_01['type'] = 'baseline'\n",
    "\n",
    "opt_01 = []\n",
    "with open(paths_01[1], 'r') as j:\n",
    "    s = j.read()[1:-1]\n",
    "    s = s.replace('\\\\','')\n",
    "    content = json.loads(s)\n",
    "    opt_01.extend(content)\n",
    "\n",
    "df_opt_01 = pd.DataFrame(opt_01)\n",
    "df_opt_01['type'] = 'optimized'"
   ]
  },
  {
   "cell_type": "code",
   "execution_count": 55,
   "metadata": {},
   "outputs": [],
   "source": [
    "paths_02 = [\"a-b_testing/outputs/churn_test_baseline_02.json\",\n",
    "            \"a-b_testing/outputs/churn_test_optimized_02.json\"]\n",
    "\n",
    "bsl_02 = []\n",
    "with open(paths_02[0], 'r') as j:\n",
    "    s = j.read()[1:-1]\n",
    "    s = s.replace('\\\\','')\n",
    "    content = json.loads(s)\n",
    "    bsl_02.extend(content)\n",
    "\n",
    "df_bsl_02 = pd.DataFrame(bsl_02)\n",
    "df_bsl_02['type'] = 'baseline'\n",
    "\n",
    "opt_02 = []\n",
    "with open(paths_02[1], 'r') as j:\n",
    "    s = j.read()[1:-1]\n",
    "    s = s.replace('\\\\','')\n",
    "    content = json.loads(s)\n",
    "    opt_02.extend(content)\n",
    "\n",
    "df_opt_02 = pd.DataFrame(opt_02)\n",
    "df_opt_02['type'] = 'optimized'"
   ]
  },
  {
   "cell_type": "code",
   "execution_count": 59,
   "metadata": {},
   "outputs": [],
   "source": [
    "paths_03 = [\"a-b_testing/outputs/churn_test_baseline_03.json\",\n",
    "            \"a-b_testing/outputs/churn_test_optimized_03.json\"]\n",
    "\n",
    "bsl_03 = []\n",
    "with open(paths_03[0], 'r') as j:\n",
    "    s = j.read()[1:-1]\n",
    "    s = s.replace('\\\\','')\n",
    "    content = json.loads(s)\n",
    "    bsl_03.extend(content)\n",
    "\n",
    "df_bsl_03 = pd.DataFrame(bsl_03)\n",
    "df_bsl_03['type'] = 'baseline'\n",
    "\n",
    "opt_03 = []\n",
    "with open(paths_03[1], 'r') as j:\n",
    "    s = j.read()[1:-1]\n",
    "    s = s.replace('\\\\','')\n",
    "    content = json.loads(s)\n",
    "    opt_03.extend(content)\n",
    "\n",
    "df_opt_03 = pd.DataFrame(opt_03)\n",
    "df_opt_03['type'] = 'optimized'"
   ]
  },
  {
   "cell_type": "code",
   "execution_count": 65,
   "metadata": {},
   "outputs": [],
   "source": [
    "paths_04 = [\"a-b_testing/outputs/churn_test_baseline_04.json\",\n",
    "            \"a-b_testing/outputs/churn_test_optimized_04.json\"]\n",
    "\n",
    "bsl_04 = []\n",
    "with open(paths_04[0], 'r') as j:\n",
    "    s = j.read()[1:-1]\n",
    "    s = s.replace('\\\\','')\n",
    "    content = json.loads(s)\n",
    "    bsl_04.extend(content)\n",
    "\n",
    "df_bsl_04 = pd.DataFrame(bsl_04)\n",
    "df_bsl_04['type'] = 'baseline'\n",
    "\n",
    "opt_04 = []\n",
    "with open(paths_04[1], 'r') as j:\n",
    "    s = j.read()[1:-1]\n",
    "    s = s.replace('\\\\','')\n",
    "    content = json.loads(s)\n",
    "    opt_04.extend(content)\n",
    "\n",
    "df_opt_04 = pd.DataFrame(opt_04)\n",
    "df_opt_04['type'] = 'optimized'"
   ]
  },
  {
   "cell_type": "code",
   "execution_count": 73,
   "metadata": {},
   "outputs": [],
   "source": [
    "paths_05 = [\"a-b_testing/outputs/churn_test_baseline_05.json\",\n",
    "            \"a-b_testing/outputs/churn_test_optimized_05.json\"]\n",
    "\n",
    "bsl_05 = []\n",
    "with open(paths_05[0], 'r') as j:\n",
    "    s = j.read()[1:-1]\n",
    "    s = s.replace('\\\\','')\n",
    "    content = json.loads(s)\n",
    "    bsl_05.extend(content)\n",
    "\n",
    "df_bsl_05 = pd.DataFrame(bsl_05)\n",
    "df_bsl_05['type'] = 'baseline'\n",
    "\n",
    "opt_05 = []\n",
    "with open(paths_05[1], 'r') as j:\n",
    "    s = j.read()[1:-1]\n",
    "    s = s.replace('\\\\','')\n",
    "    content = json.loads(s)\n",
    "    opt_05.extend(content)\n",
    "\n",
    "df_opt_05 = pd.DataFrame(opt_05)\n",
    "df_opt_05['type'] = 'optimized'"
   ]
  },
  {
   "cell_type": "code",
   "execution_count": 74,
   "metadata": {},
   "outputs": [],
   "source": [
    "paths_06 = [\"a-b_testing/outputs/churn_test_baseline_06.json\",\n",
    "            \"a-b_testing/outputs/churn_test_optimized_06.json\"]\n",
    "\n",
    "bsl_06 = []\n",
    "with open(paths_06[0], 'r') as j:\n",
    "    s = j.read()[1:-1]\n",
    "    s = s.replace('\\\\','')\n",
    "    content = json.loads(s)\n",
    "    bsl_06.extend(content)\n",
    "\n",
    "df_bsl_06 = pd.DataFrame(bsl_06)\n",
    "df_bsl_06['type'] = 'baseline'\n",
    "\n",
    "opt_06 = []\n",
    "with open(paths_06[1], 'r') as j:\n",
    "    s = j.read()[1:-1]\n",
    "    s = s.replace('\\\\','')\n",
    "    content = json.loads(s)\n",
    "    opt_06.extend(content)\n",
    "\n",
    "df_opt_06 = pd.DataFrame(opt_06)\n",
    "df_opt_06['type'] = 'optimized'"
   ]
  },
  {
   "cell_type": "code",
   "execution_count": 75,
   "metadata": {},
   "outputs": [],
   "source": [
    "paths_07 = [\"a-b_testing/outputs/churn_test_baseline_07.json\",\n",
    "            \"a-b_testing/outputs/churn_test_optimized_07.json\"]\n",
    "\n",
    "bsl_07 = []\n",
    "with open(paths_07[0], 'r') as j:\n",
    "    s = j.read()[1:-1]\n",
    "    s = s.replace('\\\\','')\n",
    "    content = json.loads(s)\n",
    "    bsl_07.extend(content)\n",
    "\n",
    "df_bsl_07 = pd.DataFrame(bsl_07)\n",
    "df_bsl_07['type'] = 'baseline'\n",
    "\n",
    "opt_07 = []\n",
    "with open(paths_07[1], 'r') as j:\n",
    "    s = j.read()[1:-1]\n",
    "    s = s.replace('\\\\','')\n",
    "    content = json.loads(s)\n",
    "    opt_07.extend(content)\n",
    "\n",
    "df_opt_07 = pd.DataFrame(opt_07)\n",
    "df_opt_07['type'] = 'optimized'"
   ]
  },
  {
   "cell_type": "code",
   "execution_count": 76,
   "metadata": {},
   "outputs": [],
   "source": [
    "df_01 = pd.concat([df_bsl_01,df_opt_01], axis=0, ignore_index=True)\n",
    "df_02 = pd.concat([df_bsl_02,df_opt_02], axis=0, ignore_index=True)\n",
    "df_03 = pd.concat([df_bsl_03,df_opt_03], axis=0, ignore_index=True)\n",
    "df_04 = pd.concat([df_bsl_04,df_opt_04], axis=0, ignore_index=True)\n",
    "df_05 = pd.concat([df_bsl_05,df_opt_05], axis=0, ignore_index=True)\n",
    "df_06 = pd.concat([df_bsl_06,df_opt_06], axis=0, ignore_index=True)\n",
    "df_07 = pd.concat([df_bsl_07,df_opt_07], axis=0, ignore_index=True)"
   ]
  },
  {
   "cell_type": "code",
   "execution_count": 83,
   "metadata": {},
   "outputs": [],
   "source": [
    "change_01 = df_01[[\"Probability\",\"type\"]].groupby(\"type\").mean().reset_index()\n",
    "change_01 = change_01.rename(columns={\"Probability\":\"Monday\"})\n",
    "\n",
    "change_02 = df_02[[\"Probability\",\"type\"]].groupby(\"type\").mean().reset_index()\n",
    "change_02 = change_02.rename(columns={\"Probability\":\"Tuesday\"})\n",
    "\n",
    "change_03 = df_03[[\"Probability\",\"type\"]].groupby(\"type\").mean().reset_index()\n",
    "change_03 = change_03.rename(columns={\"Probability\":\"Wednesday\"})\n",
    "\n",
    "change_04 = df_04[[\"Probability\",\"type\"]].groupby(\"type\").mean().reset_index()\n",
    "change_04 = change_04.rename(columns={\"Probability\":\"Thursday\"})\n",
    "\n",
    "change_05 = df_05[[\"Probability\",\"type\"]].groupby(\"type\").mean().reset_index()\n",
    "change_05 = change_05.rename(columns={\"Probability\":\"Friday\"})\n",
    "\n",
    "change_06 = df_06[[\"Probability\",\"type\"]].groupby(\"type\").mean().reset_index()\n",
    "change_06 = change_06.rename(columns={\"Probability\":\"Saturday\"})\n",
    "\n",
    "change_07 = df_07[[\"Probability\",\"type\"]].groupby(\"type\").mean().reset_index()\n",
    "change_07 = change_07.rename(columns={\"Probability\":\"Sunday\"})"
   ]
  },
  {
   "cell_type": "code",
   "execution_count": 91,
   "metadata": {},
   "outputs": [],
   "source": [
    "change_df = change_01.merge(change_02, on=\"type\").merge(change_03, on=\"type\").merge(change_04, on=\"type\").merge(change_05, on=\"type\").merge(change_06, on=\"type\").merge(change_07, on=\"type\")\n",
    "change_df = change_df.transpose()\n",
    "change_df.columns = change_df.iloc[0]\n",
    "change_df = change_df[1:]"
   ]
  },
  {
   "cell_type": "code",
   "execution_count": 94,
   "metadata": {},
   "outputs": [
    {
     "data": {
      "text/html": [
       "<div>\n",
       "<style scoped>\n",
       "    .dataframe tbody tr th:only-of-type {\n",
       "        vertical-align: middle;\n",
       "    }\n",
       "\n",
       "    .dataframe tbody tr th {\n",
       "        vertical-align: top;\n",
       "    }\n",
       "\n",
       "    .dataframe thead th {\n",
       "        text-align: right;\n",
       "    }\n",
       "</style>\n",
       "<table border=\"1\" class=\"dataframe\">\n",
       "  <thead>\n",
       "    <tr style=\"text-align: right;\">\n",
       "      <th>type</th>\n",
       "      <th>baseline</th>\n",
       "      <th>optimized</th>\n",
       "      <th>change</th>\n",
       "    </tr>\n",
       "  </thead>\n",
       "  <tbody>\n",
       "    <tr>\n",
       "      <th>Monday</th>\n",
       "      <td>24.949397</td>\n",
       "      <td>39.31258</td>\n",
       "      <td>14.363183</td>\n",
       "    </tr>\n",
       "    <tr>\n",
       "      <th>Tuesday</th>\n",
       "      <td>25.163217</td>\n",
       "      <td>44.633133</td>\n",
       "      <td>19.469916</td>\n",
       "    </tr>\n",
       "    <tr>\n",
       "      <th>Wednesday</th>\n",
       "      <td>28.856715</td>\n",
       "      <td>38.903402</td>\n",
       "      <td>10.046687</td>\n",
       "    </tr>\n",
       "    <tr>\n",
       "      <th>Thursday</th>\n",
       "      <td>23.254551</td>\n",
       "      <td>46.331902</td>\n",
       "      <td>23.077351</td>\n",
       "    </tr>\n",
       "    <tr>\n",
       "      <th>Friday</th>\n",
       "      <td>27.132832</td>\n",
       "      <td>41.370166</td>\n",
       "      <td>14.237334</td>\n",
       "    </tr>\n",
       "    <tr>\n",
       "      <th>Saturday</th>\n",
       "      <td>25.214796</td>\n",
       "      <td>43.36448</td>\n",
       "      <td>18.149684</td>\n",
       "    </tr>\n",
       "    <tr>\n",
       "      <th>Sunday</th>\n",
       "      <td>33.665576</td>\n",
       "      <td>34.905818</td>\n",
       "      <td>1.240241</td>\n",
       "    </tr>\n",
       "  </tbody>\n",
       "</table>\n",
       "</div>"
      ],
      "text/plain": [
       "type        baseline  optimized     change\n",
       "Monday     24.949397   39.31258  14.363183\n",
       "Tuesday    25.163217  44.633133  19.469916\n",
       "Wednesday  28.856715  38.903402  10.046687\n",
       "Thursday   23.254551  46.331902  23.077351\n",
       "Friday     27.132832  41.370166  14.237334\n",
       "Saturday   25.214796   43.36448  18.149684\n",
       "Sunday     33.665576  34.905818   1.240241"
      ]
     },
     "execution_count": 94,
     "metadata": {},
     "output_type": "execute_result"
    }
   ],
   "source": [
    "change_df[\"change\"] = change_df[\"optimized\"] - change_df[\"baseline\"]\n",
    "change_df"
   ]
  },
  {
   "cell_type": "code",
   "execution_count": 144,
   "metadata": {},
   "outputs": [
    {
     "data": {
      "image/png": "[encoded data removed]",
      "text/plain": [
       "<Figure size 1000x600 with 1 Axes>"
      ]
     },
     "metadata": {},
     "output_type": "display_data"
    }
   ],
   "source": [
    "ax = change_df[[\"baseline\",\"optimized\"]].plot(kind='barh', width=0.5, figsize=(10, 6)).invert_yaxis()\n",
    "\n",
    "plt.xlabel('Probabilidad')\n",
    "plt.ylabel('Día')\n",
    "plt.title('Cambio porcentual de probabilidad entre modelos')\n",
    "\n",
    "# Adding legend\n",
    "plt.legend(['Baseline', 'Optimizado'])\n",
    "\n",
    "# Display the plot\n",
    "plt.show()"
   ]
  },
  {
   "cell_type": "markdown",
   "metadata": {},
   "source": [
    "### Punto C: \n",
    "\n",
    "#### En una base diaria, ¿cuál fue el porcentaje de éxito del modelo prediciendo casos de efectivos de churn?"
   ]
  },
  {
   "cell_type": "code",
   "execution_count": 160,
   "metadata": {},
   "outputs": [],
   "source": [
    "success_lst = []"
   ]
  },
  {
   "cell_type": "code",
   "execution_count": 161,
   "metadata": {},
   "outputs": [],
   "source": [
    "actual_df_01 = pd.read_json(\"a-b_testing/input_data/churn_future_model_01.json\")\n",
    "\n",
    "pred = []\n",
    "with open(\"a-b_testing/outputs/churn_test_optimized_01.json\", 'r') as j:\n",
    "    s = j.read()[1:-1]\n",
    "    s = s.replace('\\\\','')\n",
    "    content = json.loads(s)\n",
    "    pred.extend(content)\n",
    "predict_df_01 = pd.DataFrame(pred)\n",
    "\n",
    "success_df_01 = actual_df_01.join(predict_df_01)[[\"Churn\",\"Prediction\"]]\n",
    "success_df_01[\"Churn\"] = success_df_01[\"Churn\"].replace({'Yes':1,'No':0})\n",
    "success_01 = (success_df_01.Prediction==success_df_01.Churn).mean()\n",
    "success_lst.append(success_01)"
   ]
  },
  {
   "cell_type": "code",
   "execution_count": 162,
   "metadata": {},
   "outputs": [],
   "source": [
    "actual_df_02 = pd.read_json(\"a-b_testing/input_data/churn_future_model_02.json\")\n",
    "\n",
    "pred = []\n",
    "with open(\"a-b_testing/outputs/churn_test_optimized_02.json\", 'r') as j:\n",
    "    s = j.read()[1:-1]\n",
    "    s = s.replace('\\\\','')\n",
    "    content = json.loads(s)\n",
    "    pred.extend(content)\n",
    "predict_df_02 = pd.DataFrame(pred)\n",
    "\n",
    "success_df_02 = actual_df_02.join(predict_df_02)[[\"Churn\",\"Prediction\"]]\n",
    "success_df_02[\"Churn\"] = success_df_02[\"Churn\"].replace({'Yes':1,'No':0})\n",
    "success_02 = (success_df_02.Prediction==success_df_02.Churn).mean()\n",
    "success_lst.append(success_02)"
   ]
  },
  {
   "cell_type": "code",
   "execution_count": 163,
   "metadata": {},
   "outputs": [],
   "source": [
    "actual_df_03 = pd.read_json(\"a-b_testing/input_data/churn_future_model_03.json\")\n",
    "\n",
    "pred = []\n",
    "with open(\"a-b_testing/outputs/churn_test_optimized_03.json\", 'r') as j:\n",
    "    s = j.read()[1:-1]\n",
    "    s = s.replace('\\\\','')\n",
    "    content = json.loads(s)\n",
    "    pred.extend(content)\n",
    "predict_df_03 = pd.DataFrame(pred)\n",
    "\n",
    "success_df_03 = actual_df_03.join(predict_df_03)[[\"Churn\",\"Prediction\"]]\n",
    "success_df_03[\"Churn\"] = success_df_03[\"Churn\"].replace({'Yes':1,'No':0})\n",
    "success_03 = (success_df_03.Prediction==success_df_03.Churn).mean()\n",
    "success_lst.append(success_03)"
   ]
  },
  {
   "cell_type": "code",
   "execution_count": 164,
   "metadata": {},
   "outputs": [],
   "source": [
    "actual_df_04 = pd.read_json(\"a-b_testing/input_data/churn_future_model_04.json\")\n",
    "\n",
    "pred = []\n",
    "with open(\"a-b_testing/outputs/churn_test_optimized_04.json\", 'r') as j:\n",
    "    s = j.read()[1:-1]\n",
    "    s = s.replace('\\\\','')\n",
    "    content = json.loads(s)\n",
    "    pred.extend(content)\n",
    "predict_df_04 = pd.DataFrame(pred)\n",
    "\n",
    "success_df_04 = actual_df_04.join(predict_df_04)[[\"Churn\",\"Prediction\"]]\n",
    "success_df_04[\"Churn\"] = success_df_04[\"Churn\"].replace({'Yes':1,'No':0})\n",
    "success_04 = (success_df_04.Prediction==success_df_04.Churn).mean()\n",
    "success_lst.append(success_04)"
   ]
  },
  {
   "cell_type": "code",
   "execution_count": 165,
   "metadata": {},
   "outputs": [],
   "source": [
    "actual_df_05 = pd.read_json(\"a-b_testing/input_data/churn_future_model_05.json\")\n",
    "\n",
    "pred = []\n",
    "with open(\"a-b_testing/outputs/churn_test_optimized_05.json\", 'r') as j:\n",
    "    s = j.read()[1:-1]\n",
    "    s = s.replace('\\\\','')\n",
    "    content = json.loads(s)\n",
    "    pred.extend(content)\n",
    "predict_df_05 = pd.DataFrame(pred)\n",
    "\n",
    "success_df_05 = actual_df_05.join(predict_df_05)[[\"Churn\",\"Prediction\"]]\n",
    "success_df_05[\"Churn\"] = success_df_05[\"Churn\"].replace({'Yes':1,'No':0})\n",
    "success_05 = (success_df_05.Prediction==success_df_05.Churn).mean()\n",
    "success_lst.append(success_05)"
   ]
  },
  {
   "cell_type": "code",
   "execution_count": 166,
   "metadata": {},
   "outputs": [],
   "source": [
    "actual_df_06 = pd.read_json(\"a-b_testing/input_data/churn_future_model_06.json\")\n",
    "\n",
    "pred = []\n",
    "with open(\"a-b_testing/outputs/churn_test_optimized_06.json\", 'r') as j:\n",
    "    s = j.read()[1:-1]\n",
    "    s = s.replace('\\\\','')\n",
    "    content = json.loads(s)\n",
    "    pred.extend(content)\n",
    "predict_df_06 = pd.DataFrame(pred)\n",
    "\n",
    "success_df_06 = actual_df_06.join(predict_df_06)[[\"Churn\",\"Prediction\"]]\n",
    "success_df_06[\"Churn\"] = success_df_06[\"Churn\"].replace({'Yes':1,'No':0})\n",
    "success_06 = (success_df_06.Prediction==success_df_06.Churn).mean()\n",
    "success_lst.append(success_06)"
   ]
  },
  {
   "cell_type": "code",
   "execution_count": 167,
   "metadata": {},
   "outputs": [],
   "source": [
    "actual_df_07 = pd.read_json(\"a-b_testing/input_data/churn_future_model_07.json\")\n",
    "\n",
    "pred = []\n",
    "with open(\"a-b_testing/outputs/churn_test_optimized_07.json\", 'r') as j:\n",
    "    s = j.read()[1:-1]\n",
    "    s = s.replace('\\\\','')\n",
    "    content = json.loads(s)\n",
    "    pred.extend(content)\n",
    "predict_df_07 = pd.DataFrame(pred)\n",
    "\n",
    "success_df_07 = actual_df_07.join(predict_df_07)[[\"Churn\",\"Prediction\"]]\n",
    "success_df_07[\"Churn\"] = success_df_07[\"Churn\"].replace({'Yes':1,'No':0})\n",
    "success_07 = (success_df_07.Prediction==success_df_07.Churn).mean()\n",
    "success_lst.append(success_07)"
   ]
  },
  {
   "cell_type": "code",
   "execution_count": 172,
   "metadata": {},
   "outputs": [
    {
     "data": {
      "image/png": "[encoded data removed]",
      "text/plain": [
       "<Figure size 640x480 with 1 Axes>"
      ]
     },
     "metadata": {},
     "output_type": "display_data"
    }
   ],
   "source": [
    "days = [\"Monday\",\"Tuesday\",\"Wednesday\",\"Thursday\",\"Friday\",\"Saturday\",\"Sunday\"]\n",
    "y_pos = np.arange(len(days))\n",
    "\n",
    "success_prc = [i * 100 for i in success_lst]\n",
    "\n",
    "plt.barh(y_pos[::1],success_prc[::-1])\n",
    "plt.yticks(np.arange(len(days)), days[::-1])\n",
    "\n",
    "plt.xlabel('% éxito')\n",
    "plt.ylabel('Día')\n",
    "plt.title('Porcentaje de éxito en predicción para cada día')\n",
    "\n",
    "# Display the plot\n",
    "plt.show()"
   ]
  }
 ],
 "metadata": {
  "kernelspec": {
   "display_name": "Python 3",
   "language": "python",
   "name": "python3"
  },
  "language_info": {
   "codemirror_mode": {
    "name": "ipython",
    "version": 3
   },
   "file_extension": ".py",
   "mimetype": "text/x-python",
   "name": "python",
   "nbconvert_exporter": "python",
   "pygments_lexer": "ipython3",
   "version": "3.11.5"
  }
 },
 "nbformat": 4,
 "nbformat_minor": 2
}
